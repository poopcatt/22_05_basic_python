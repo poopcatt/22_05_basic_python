{
  "nbformat": 4,
  "nbformat_minor": 0,
  "metadata": {
    "colab": {
      "provenance": [],
      "authorship_tag": "ABX9TyNBSuhrTUHzUfPTq/x3eSSA",
      "include_colab_link": true
    },
    "kernelspec": {
      "name": "python3",
      "display_name": "Python 3"
    },
    "language_info": {
      "name": "python"
    }
  },
  "cells": [
    {
      "cell_type": "markdown",
      "metadata": {
        "id": "view-in-github",
        "colab_type": "text"
      },
      "source": [
        "<a href=\"https://colab.research.google.com/github/poopcatt/22_05_basic_python/blob/main/Midterm_practice.ipynb\" target=\"_parent\"><img src=\"https://colab.research.google.com/assets/colab-badge.svg\" alt=\"Open In Colab\"/></a>"
      ]
    },
    {
      "cell_type": "markdown",
      "source": [
        "다음 보기의 사칙연산을 완성하시오. 한줄에 모두, 여러줄로 나누어서, 보기좋게 정리."
      ],
      "metadata": {
        "id": "t0L0bcqpTlz2"
      }
    },
    {
      "cell_type": "code",
      "source": [
        "print(1+2 , 2-3, 3*4, 4/4)\n",
        "print(1+2)\n",
        "print(2-3)\n",
        "print(3*4)\n",
        "print(4/4)"
      ],
      "metadata": {
        "colab": {
          "base_uri": "https://localhost:8080/"
        },
        "id": "WMQxNC_PTu7H",
        "outputId": "dd067f81-0a34-4d6e-9954-a849fd5329e1"
      },
      "execution_count": 1,
      "outputs": [
        {
          "output_type": "stream",
          "name": "stdout",
          "text": [
            "3 -1 12 1.0\n",
            "3\n",
            "-1\n",
            "12\n",
            "1.0\n"
          ]
        }
      ]
    },
    {
      "cell_type": "markdown",
      "source": [
        "아래의 출력화면을 보기좋게 코딩하시오."
      ],
      "metadata": {
        "id": "c56aIPIsUtxK"
      }
    },
    {
      "cell_type": "code",
      "source": [
        "print(\"*\"*40)\n",
        "print(\"* 제1조 1항 대한민국은 민주공화국이다. *\")\n",
        "print(\"*\"*40)"
      ],
      "metadata": {
        "colab": {
          "base_uri": "https://localhost:8080/"
        },
        "id": "pgCxbfbdUxdm",
        "outputId": "26ae6b54-8324-495f-a868-1a55651c83bc"
      },
      "execution_count": 4,
      "outputs": [
        {
          "output_type": "stream",
          "name": "stdout",
          "text": [
            "****************************************\n",
            "* 제1조 1항 대한민국은 민주공화국이다. *\n",
            "****************************************\n"
          ]
        }
      ]
    },
    {
      "cell_type": "markdown",
      "source": [
        "사용자에게 성명, 나이, 주소를 입력받아서 출력하라."
      ],
      "metadata": {
        "id": "XldAGB6AVIQl"
      }
    },
    {
      "cell_type": "code",
      "source": [
        "name=input(\"이름을 입력하시오.:\")\n",
        "age=input(\"나이를 입력하시오.:\")\n",
        "address=input(\"주소를 입력하시오.:\")\n",
        "print(name, age, address)"
      ],
      "metadata": {
        "colab": {
          "base_uri": "https://localhost:8080/"
        },
        "id": "sHXhutBkVPVH",
        "outputId": "9d9be7e0-49f3-4a2b-a133-937015b65556"
      },
      "execution_count": 5,
      "outputs": [
        {
          "output_type": "stream",
          "name": "stdout",
          "text": [
            "이름을 입력하시오.:조서현\n",
            "나이를 입력하시오.:20\n",
            "주소를 입력하시오.:.\n",
            "조서현 20 .\n"
          ]
        }
      ]
    },
    {
      "cell_type": "markdown",
      "source": [
        "import turtle - 거북이 함수 입력\n",
        "t = turtle.Turtle() - 변수 turtle의 모든 함수를 t로 전환"
      ],
      "metadata": {
        "id": "9aPpZn3YXUAt"
      }
    },
    {
      "cell_type": "code",
      "source": [
        "x=input(\"첫 번째 정수를 입력하시오.:\")\n",
        "y=input(\"두 번째 정수를 입력하시오.:\")\n",
        "print(\"두 합의 값은\", x+y, \"입니다.\")"
      ],
      "metadata": {
        "colab": {
          "base_uri": "https://localhost:8080/"
        },
        "id": "fuSa6zB4ZsHJ",
        "outputId": "c3a85cb8-57ce-4d96-9366-9c7c0c00add9"
      },
      "execution_count": 10,
      "outputs": [
        {
          "output_type": "stream",
          "name": "stdout",
          "text": [
            "첫 번째 정수를 입력하시오.:100\n",
            "두 번째 정수를 입력하시오.:100\n",
            "두 합의 값은 100100 입니다.\n"
          ]
        }
      ]
    },
    {
      "cell_type": "code",
      "source": [
        "x=int(input(\"첫 번째 정수를 입력하시오.:\"))\n",
        "y=int(input(\"두 번째 정수를 입력하시오.:\"))\n",
        "print(\"두 합의 값은\", x+y, \"입니다.\")"
      ],
      "metadata": {
        "colab": {
          "base_uri": "https://localhost:8080/"
        },
        "id": "GlPicRqLaVaK",
        "outputId": "5bd12f04-4949-4454-9570-d1b0f1922e82"
      },
      "execution_count": 11,
      "outputs": [
        {
          "output_type": "stream",
          "name": "stdout",
          "text": [
            "첫 번째 정수를 입력하시오.:100\n",
            "두 번째 정수를 입력하시오.:100\n",
            "두 합의 값은 200 입니다.\n"
          ]
        }
      ]
    }
  ]
}