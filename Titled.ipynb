{
  "nbformat": 4,
  "nbformat_minor": 0,
  "metadata": {
    "colab": {
      "provenance": [],
      "authorship_tag": "ABX9TyN8OJnOi/hWzmby6Ln6scRJ",
      "include_colab_link": true
    },
    "kernelspec": {
      "name": "python3",
      "display_name": "Python 3"
    },
    "language_info": {
      "name": "python"
    }
  },
  "cells": [
    {
      "cell_type": "markdown",
      "metadata": {
        "id": "view-in-github",
        "colab_type": "text"
      },
      "source": [
        "<a href=\"https://colab.research.google.com/github/poopcatt/22_05_basic_python/blob/main/Titled.ipynb\" target=\"_parent\"><img src=\"https://colab.research.google.com/assets/colab-badge.svg\" alt=\"Open In Colab\"/></a>"
      ]
    },
    {
      "cell_type": "code",
      "source": [
        "x = 10\n",
        "print(\"x=\", x)\n",
        "x = 3.14\n",
        "print(\"x=\", x)\n",
        "x = \"Hello World!\"\n",
        "print(\"x=\", x)\n"
      ],
      "metadata": {
        "colab": {
          "base_uri": "https://localhost:8080/"
        },
        "id": "HqOOpYL2NaCg",
        "outputId": "eb0022e8-bcd7-4a77-d02f-5356693afd72"
      },
      "execution_count": 1,
      "outputs": [
        {
          "output_type": "stream",
          "name": "stdout",
          "text": [
            "x= 10\n",
            "x= 3.14\n",
            "x= Hello World!\n"
          ]
        }
      ]
    },
    {
      "cell_type": "code",
      "source": [
        "x = input(\"정수를 입력하시오:\")\n",
        "y = input(\"정수를 입력하시오:\")\n",
        "print(x+y)"
      ],
      "metadata": {
        "colab": {
          "base_uri": "https://localhost:8080/"
        },
        "id": "xO40sQYLOHAK",
        "outputId": "cc600ecd-9dbe-4596-ecbc-e15abc77c119"
      },
      "execution_count": 2,
      "outputs": [
        {
          "output_type": "stream",
          "name": "stdout",
          "text": [
            "정수를 입력하시오:100\n",
            "정수를 입력하시오:200\n",
            "100200\n"
          ]
        }
      ]
    },
    {
      "cell_type": "code",
      "source": [
        "x = int(input(\"정수를 입력하시오:\"))\n",
        "y = int(input(\"정수를 입력하시오:\"))\n",
        "print(x+y)"
      ],
      "metadata": {
        "colab": {
          "base_uri": "https://localhost:8080/"
        },
        "id": "pDRoEBBsTWG5",
        "outputId": "abced3ee-cf94-42c1-bec6-9868f2456675"
      },
      "execution_count": 4,
      "outputs": [
        {
          "output_type": "stream",
          "name": "stdout",
          "text": [
            "정수를 입력하시오:100\n",
            "정수를 입력하시오:200\n",
            "300\n"
          ]
        }
      ]
    },
    {
      "cell_type": "code",
      "source": [
        "t = input(\"정수를 입력하시오:\")\n",
        "x = int(t)\n",
        "\n",
        "t = input(\"정수를 입력하시오:\")\n",
        "y = int(t)\n",
        "\n",
        "print(x+y)"
      ],
      "metadata": {
        "colab": {
          "base_uri": "https://localhost:8080/"
        },
        "id": "82zbU5EMThBg",
        "outputId": "223af7cb-c285-40d7-fb56-df6de36355ed"
      },
      "execution_count": 5,
      "outputs": [
        {
          "output_type": "stream",
          "name": "stdout",
          "text": [
            "정수를 입력하시오:100\n",
            "정수를 입력하시오:200\n",
            "300\n"
          ]
        }
      ]
    }
  ]
}