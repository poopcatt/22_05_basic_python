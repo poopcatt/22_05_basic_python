{
  "nbformat": 4,
  "nbformat_minor": 0,
  "metadata": {
    "colab": {
      "provenance": [],
      "authorship_tag": "ABX9TyPfqx6FnKfOa7tcZcYsbaJ9",
      "include_colab_link": true
    },
    "kernelspec": {
      "name": "python3",
      "display_name": "Python 3"
    },
    "language_info": {
      "name": "python"
    }
  },
  "cells": [
    {
      "cell_type": "markdown",
      "metadata": {
        "id": "view-in-github",
        "colab_type": "text"
      },
      "source": [
        "<a href=\"https://colab.research.google.com/github/poopcatt/22_05_basic_python/blob/main/python_1st.ipynb\" target=\"_parent\"><img src=\"https://colab.research.google.com/assets/colab-badge.svg\" alt=\"Open In Colab\"/></a>"
      ]
    },
    {
      "cell_type": "markdown",
      "source": [
        "1. \"안녕하세요\" 를 화면에 출력해 보자."
      ],
      "metadata": {
        "id": "infq9TDCZCYC"
      }
    },
    {
      "cell_type": "code",
      "source": [
        "print(\"안녕하세요\")"
      ],
      "metadata": {
        "colab": {
          "base_uri": "https://localhost:8080/"
        },
        "id": "AFU_460oZQvc",
        "outputId": "b25889fe-3d75-4a69-e724-c9b72d5780e5"
      },
      "execution_count": 1,
      "outputs": [
        {
          "output_type": "stream",
          "name": "stdout",
          "text": [
            "안녕하세요\n"
          ]
        }
      ]
    },
    {
      "cell_type": "markdown",
      "source": [
        "2. \"programming에 입문하신것을 축하드립니다.\" 를 출력하시오."
      ],
      "metadata": {
        "id": "1xjyxgaeZ5lC"
      }
    },
    {
      "cell_type": "code",
      "source": [
        "print(\"programming에 입문하신것을 축하드립니다.\")"
      ],
      "metadata": {
        "colab": {
          "base_uri": "https://localhost:8080/"
        },
        "id": "9h2oWid0aPYI",
        "outputId": "591ab776-84e5-4945-bdde-85eacecdbf0a"
      },
      "execution_count": 2,
      "outputs": [
        {
          "output_type": "stream",
          "name": "stdout",
          "text": [
            "programming에 입문하신것을 축하드립니다.\n"
          ]
        }
      ]
    }
  ]
}